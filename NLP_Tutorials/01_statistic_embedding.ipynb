{
 "cells": [
  {
   "cell_type": "markdown",
   "metadata": {},
   "source": [
    "# Statistical Embedding\n",
    "CREATED BY: dsl  \n",
    "[UPDATED: 2020.08.16]"
   ]
  },
  {
   "cell_type": "code",
   "execution_count": 1,
   "metadata": {},
   "outputs": [],
   "source": [
    "import pandas as pd\n",
    "from sklearn.feature_extraction.text import CountVectorizer\n",
    "from sklearn.feature_extraction.text import TfidfVectorizer"
   ]
  },
  {
   "cell_type": "markdown",
   "metadata": {},
   "source": [
    "## 1. BOW using sklearn"
   ]
  },
  {
   "cell_type": "code",
   "execution_count": 2,
   "metadata": {},
   "outputs": [],
   "source": [
    "# given the following sentence\n",
    "docA = 'The car is driven on the road'\n",
    "docB = 'The truck is driven on the highway'\n",
    "docC = 'The bus is driven on the road and the highway'"
   ]
  },
  {
   "cell_type": "code",
   "execution_count": 3,
   "metadata": {},
   "outputs": [
    {
     "name": "stdout",
     "output_type": "stream",
     "text": [
      "  (0, 1)\t1\n",
      "  (0, 2)\t1\n",
      "  (0, 4)\t1\n",
      "  (1, 2)\t1\n",
      "  (1, 5)\t1\n",
      "  (1, 3)\t1\n",
      "  (2, 2)\t1\n",
      "  (2, 4)\t1\n",
      "  (2, 3)\t1\n",
      "  (2, 0)\t1\n"
     ]
    }
   ],
   "source": [
    "# make a list of document from all sentence\n",
    "doc = [docA, docB, docC]\n",
    "\n",
    "# initialize countvectorizer\n",
    "vectorizer = CountVectorizer(stop_words='english')\n",
    "wordcount = vectorizer.fit_transform(doc)\n",
    "print(wordcount)"
   ]
  },
  {
   "cell_type": "code",
   "execution_count": 4,
   "metadata": {},
   "outputs": [
    {
     "name": "stdout",
     "output_type": "stream",
     "text": [
      "['bus', 'car', 'driven', 'highway', 'road', 'truck']\n",
      "[[0 1 1 0 1 0]\n",
      " [0 0 1 1 0 1]\n",
      " [1 0 1 1 1 0]]\n"
     ]
    }
   ],
   "source": [
    "feature_names = vectorizer.get_feature_names()\n",
    "print(feature_names)\n",
    "wordcount_arr = wordcount.toarray()\n",
    "print(wordcount_arr)"
   ]
  },
  {
   "cell_type": "code",
   "execution_count": 5,
   "metadata": {},
   "outputs": [
    {
     "data": {
      "text/html": [
       "<style  type=\"text/css\" >\n",
       "</style><table id=\"T_b75ca5f2_e022_11ea_90f4_f220cda55e3c\" ><thead>    <tr>        <th class=\"blank level0\" ></th>        <th class=\"col_heading level0 col0\" >The car is driven on the road</th>        <th class=\"col_heading level0 col1\" >The truck is driven on the highway</th>        <th class=\"col_heading level0 col2\" >The bus is driven on the road and the highway</th>    </tr></thead><tbody>\n",
       "                <tr>\n",
       "                        <th id=\"T_b75ca5f2_e022_11ea_90f4_f220cda55e3clevel0_row0\" class=\"row_heading level0 row0\" >bus</th>\n",
       "                        <td id=\"T_b75ca5f2_e022_11ea_90f4_f220cda55e3crow0_col0\" class=\"data row0 col0\" >0</td>\n",
       "                        <td id=\"T_b75ca5f2_e022_11ea_90f4_f220cda55e3crow0_col1\" class=\"data row0 col1\" >0</td>\n",
       "                        <td id=\"T_b75ca5f2_e022_11ea_90f4_f220cda55e3crow0_col2\" class=\"data row0 col2\" >1</td>\n",
       "            </tr>\n",
       "            <tr>\n",
       "                        <th id=\"T_b75ca5f2_e022_11ea_90f4_f220cda55e3clevel0_row1\" class=\"row_heading level0 row1\" >car</th>\n",
       "                        <td id=\"T_b75ca5f2_e022_11ea_90f4_f220cda55e3crow1_col0\" class=\"data row1 col0\" >1</td>\n",
       "                        <td id=\"T_b75ca5f2_e022_11ea_90f4_f220cda55e3crow1_col1\" class=\"data row1 col1\" >0</td>\n",
       "                        <td id=\"T_b75ca5f2_e022_11ea_90f4_f220cda55e3crow1_col2\" class=\"data row1 col2\" >0</td>\n",
       "            </tr>\n",
       "            <tr>\n",
       "                        <th id=\"T_b75ca5f2_e022_11ea_90f4_f220cda55e3clevel0_row2\" class=\"row_heading level0 row2\" >driven</th>\n",
       "                        <td id=\"T_b75ca5f2_e022_11ea_90f4_f220cda55e3crow2_col0\" class=\"data row2 col0\" >1</td>\n",
       "                        <td id=\"T_b75ca5f2_e022_11ea_90f4_f220cda55e3crow2_col1\" class=\"data row2 col1\" >1</td>\n",
       "                        <td id=\"T_b75ca5f2_e022_11ea_90f4_f220cda55e3crow2_col2\" class=\"data row2 col2\" >1</td>\n",
       "            </tr>\n",
       "            <tr>\n",
       "                        <th id=\"T_b75ca5f2_e022_11ea_90f4_f220cda55e3clevel0_row3\" class=\"row_heading level0 row3\" >highway</th>\n",
       "                        <td id=\"T_b75ca5f2_e022_11ea_90f4_f220cda55e3crow3_col0\" class=\"data row3 col0\" >0</td>\n",
       "                        <td id=\"T_b75ca5f2_e022_11ea_90f4_f220cda55e3crow3_col1\" class=\"data row3 col1\" >1</td>\n",
       "                        <td id=\"T_b75ca5f2_e022_11ea_90f4_f220cda55e3crow3_col2\" class=\"data row3 col2\" >1</td>\n",
       "            </tr>\n",
       "            <tr>\n",
       "                        <th id=\"T_b75ca5f2_e022_11ea_90f4_f220cda55e3clevel0_row4\" class=\"row_heading level0 row4\" >road</th>\n",
       "                        <td id=\"T_b75ca5f2_e022_11ea_90f4_f220cda55e3crow4_col0\" class=\"data row4 col0\" >1</td>\n",
       "                        <td id=\"T_b75ca5f2_e022_11ea_90f4_f220cda55e3crow4_col1\" class=\"data row4 col1\" >0</td>\n",
       "                        <td id=\"T_b75ca5f2_e022_11ea_90f4_f220cda55e3crow4_col2\" class=\"data row4 col2\" >1</td>\n",
       "            </tr>\n",
       "            <tr>\n",
       "                        <th id=\"T_b75ca5f2_e022_11ea_90f4_f220cda55e3clevel0_row5\" class=\"row_heading level0 row5\" >truck</th>\n",
       "                        <td id=\"T_b75ca5f2_e022_11ea_90f4_f220cda55e3crow5_col0\" class=\"data row5 col0\" >0</td>\n",
       "                        <td id=\"T_b75ca5f2_e022_11ea_90f4_f220cda55e3crow5_col1\" class=\"data row5 col1\" >1</td>\n",
       "                        <td id=\"T_b75ca5f2_e022_11ea_90f4_f220cda55e3crow5_col2\" class=\"data row5 col2\" >0</td>\n",
       "            </tr>\n",
       "    </tbody></table>"
      ],
      "text/plain": [
       "<pandas.io.formats.style.Styler at 0x7f5caa578a58>"
      ]
     },
     "execution_count": 5,
     "metadata": {},
     "output_type": "execute_result"
    }
   ],
   "source": [
    "df_bow = pd.DataFrame(wordcount_arr.T, index=feature_names, columns=[docA, docB, docC])\n",
    "df_bow.style"
   ]
  },
  {
   "cell_type": "code",
   "execution_count": null,
   "metadata": {},
   "outputs": [],
   "source": []
  },
  {
   "cell_type": "markdown",
   "metadata": {},
   "source": [
    "## 2. TF-IDF (Term frequency-inverse document dependency Frequency)"
   ]
  },
  {
   "cell_type": "markdown",
   "metadata": {},
   "source": [
    "### 2.1 TF"
   ]
  },
  {
   "cell_type": "code",
   "execution_count": 6,
   "metadata": {},
   "outputs": [],
   "source": [
    "# given the following documents\n",
    "docA = 'The car is driven on the road'\n",
    "docB = 'The truck is driven on the highway'"
   ]
  },
  {
   "cell_type": "code",
   "execution_count": 7,
   "metadata": {},
   "outputs": [
    {
     "name": "stdout",
     "output_type": "stream",
     "text": [
      "bowA:  ['The', 'car', 'is', 'driven', 'on', 'the', 'road']\n",
      "bowB:  ['The', 'truck', 'is', 'driven', 'on', 'the', 'highway']\n"
     ]
    }
   ],
   "source": [
    "# turn into bow => list of words\n",
    "bowA = docA.split(' ')\n",
    "bowB = docB.split(' ')\n",
    "print('bowA: ', bowA)\n",
    "print('bowB: ', bowB)"
   ]
  },
  {
   "cell_type": "code",
   "execution_count": 8,
   "metadata": {},
   "outputs": [
    {
     "name": "stdout",
     "output_type": "stream",
     "text": [
      "{'driven', 'road', 'highway', 'is', 'truck', 'car', 'on', 'The', 'the'}\n"
     ]
    }
   ],
   "source": [
    "# find unique val of words\n",
    "wordset = set(bowA).union(set(bowB))\n",
    "print(wordset)"
   ]
  },
  {
   "cell_type": "code",
   "execution_count": 9,
   "metadata": {},
   "outputs": [
    {
     "name": "stdout",
     "output_type": "stream",
     "text": [
      "initalize:\n",
      "wordDictA:  {'driven': 0, 'road': 0, 'highway': 0, 'is': 0, 'truck': 0, 'car': 0, 'on': 0, 'The': 0, 'the': 0}\n",
      "wordDictB:  {'driven': 0, 'road': 0, 'highway': 0, 'is': 0, 'truck': 0, 'car': 0, 'on': 0, 'The': 0, 'the': 0}\n",
      "\n",
      " Count:\n",
      "wordDictA:  {'driven': 1, 'road': 1, 'highway': 0, 'is': 1, 'truck': 0, 'car': 1, 'on': 1, 'The': 1, 'the': 1}\n",
      "wordDictB:  {'driven': 1, 'road': 0, 'highway': 1, 'is': 1, 'truck': 1, 'car': 0, 'on': 1, 'The': 1, 'the': 1}\n"
     ]
    }
   ],
   "source": [
    "# word count per document\n",
    "wordDictA = dict.fromkeys(wordset, 0)\n",
    "wordDictB = dict.fromkeys(wordset, 0)\n",
    "print('initalize:')\n",
    "print('wordDictA: ', wordDictA)\n",
    "print('wordDictB: ', wordDictB)\n",
    "\n",
    "# count\n",
    "for word in bowA:\n",
    "    wordDictA[word]+=1\n",
    "\n",
    "for word in bowB:\n",
    "    wordDictB[word]+=1\n",
    "print('\\n Count:')\n",
    "print('wordDictA: ', wordDictA)\n",
    "print('wordDictB: ', wordDictB)"
   ]
  },
  {
   "cell_type": "code",
   "execution_count": 10,
   "metadata": {},
   "outputs": [
    {
     "data": {
      "text/html": [
       "<style  type=\"text/css\" >\n",
       "</style><table id=\"T_b763e4ac_e022_11ea_90f4_f220cda55e3c\" ><thead>    <tr>        <th class=\"blank level0\" ></th>        <th class=\"col_heading level0 col0\" >The car is driven on the road</th>        <th class=\"col_heading level0 col1\" >The truck is driven on the highway</th>    </tr></thead><tbody>\n",
       "                <tr>\n",
       "                        <th id=\"T_b763e4ac_e022_11ea_90f4_f220cda55e3clevel0_row0\" class=\"row_heading level0 row0\" >driven</th>\n",
       "                        <td id=\"T_b763e4ac_e022_11ea_90f4_f220cda55e3crow0_col0\" class=\"data row0 col0\" >1</td>\n",
       "                        <td id=\"T_b763e4ac_e022_11ea_90f4_f220cda55e3crow0_col1\" class=\"data row0 col1\" >1</td>\n",
       "            </tr>\n",
       "            <tr>\n",
       "                        <th id=\"T_b763e4ac_e022_11ea_90f4_f220cda55e3clevel0_row1\" class=\"row_heading level0 row1\" >road</th>\n",
       "                        <td id=\"T_b763e4ac_e022_11ea_90f4_f220cda55e3crow1_col0\" class=\"data row1 col0\" >1</td>\n",
       "                        <td id=\"T_b763e4ac_e022_11ea_90f4_f220cda55e3crow1_col1\" class=\"data row1 col1\" >0</td>\n",
       "            </tr>\n",
       "            <tr>\n",
       "                        <th id=\"T_b763e4ac_e022_11ea_90f4_f220cda55e3clevel0_row2\" class=\"row_heading level0 row2\" >highway</th>\n",
       "                        <td id=\"T_b763e4ac_e022_11ea_90f4_f220cda55e3crow2_col0\" class=\"data row2 col0\" >0</td>\n",
       "                        <td id=\"T_b763e4ac_e022_11ea_90f4_f220cda55e3crow2_col1\" class=\"data row2 col1\" >1</td>\n",
       "            </tr>\n",
       "            <tr>\n",
       "                        <th id=\"T_b763e4ac_e022_11ea_90f4_f220cda55e3clevel0_row3\" class=\"row_heading level0 row3\" >is</th>\n",
       "                        <td id=\"T_b763e4ac_e022_11ea_90f4_f220cda55e3crow3_col0\" class=\"data row3 col0\" >1</td>\n",
       "                        <td id=\"T_b763e4ac_e022_11ea_90f4_f220cda55e3crow3_col1\" class=\"data row3 col1\" >1</td>\n",
       "            </tr>\n",
       "            <tr>\n",
       "                        <th id=\"T_b763e4ac_e022_11ea_90f4_f220cda55e3clevel0_row4\" class=\"row_heading level0 row4\" >truck</th>\n",
       "                        <td id=\"T_b763e4ac_e022_11ea_90f4_f220cda55e3crow4_col0\" class=\"data row4 col0\" >0</td>\n",
       "                        <td id=\"T_b763e4ac_e022_11ea_90f4_f220cda55e3crow4_col1\" class=\"data row4 col1\" >1</td>\n",
       "            </tr>\n",
       "            <tr>\n",
       "                        <th id=\"T_b763e4ac_e022_11ea_90f4_f220cda55e3clevel0_row5\" class=\"row_heading level0 row5\" >car</th>\n",
       "                        <td id=\"T_b763e4ac_e022_11ea_90f4_f220cda55e3crow5_col0\" class=\"data row5 col0\" >1</td>\n",
       "                        <td id=\"T_b763e4ac_e022_11ea_90f4_f220cda55e3crow5_col1\" class=\"data row5 col1\" >0</td>\n",
       "            </tr>\n",
       "            <tr>\n",
       "                        <th id=\"T_b763e4ac_e022_11ea_90f4_f220cda55e3clevel0_row6\" class=\"row_heading level0 row6\" >on</th>\n",
       "                        <td id=\"T_b763e4ac_e022_11ea_90f4_f220cda55e3crow6_col0\" class=\"data row6 col0\" >1</td>\n",
       "                        <td id=\"T_b763e4ac_e022_11ea_90f4_f220cda55e3crow6_col1\" class=\"data row6 col1\" >1</td>\n",
       "            </tr>\n",
       "            <tr>\n",
       "                        <th id=\"T_b763e4ac_e022_11ea_90f4_f220cda55e3clevel0_row7\" class=\"row_heading level0 row7\" >The</th>\n",
       "                        <td id=\"T_b763e4ac_e022_11ea_90f4_f220cda55e3crow7_col0\" class=\"data row7 col0\" >1</td>\n",
       "                        <td id=\"T_b763e4ac_e022_11ea_90f4_f220cda55e3crow7_col1\" class=\"data row7 col1\" >1</td>\n",
       "            </tr>\n",
       "            <tr>\n",
       "                        <th id=\"T_b763e4ac_e022_11ea_90f4_f220cda55e3clevel0_row8\" class=\"row_heading level0 row8\" >the</th>\n",
       "                        <td id=\"T_b763e4ac_e022_11ea_90f4_f220cda55e3crow8_col0\" class=\"data row8 col0\" >1</td>\n",
       "                        <td id=\"T_b763e4ac_e022_11ea_90f4_f220cda55e3crow8_col1\" class=\"data row8 col1\" >1</td>\n",
       "            </tr>\n",
       "    </tbody></table>"
      ],
      "text/plain": [
       "<pandas.io.formats.style.Styler at 0x7f5d0fe5ecf8>"
      ]
     },
     "execution_count": 10,
     "metadata": {},
     "output_type": "execute_result"
    }
   ],
   "source": [
    "# change to dataframe\n",
    "df_wordcnt = pd.DataFrame([wordDictA, wordDictB]).T\n",
    "df_wordcnt.columns = [docA, docB]\n",
    "df_wordcnt.style"
   ]
  },
  {
   "cell_type": "code",
   "execution_count": 11,
   "metadata": {},
   "outputs": [],
   "source": [
    "def computeTF(wordDict, bow):\n",
    "    tfDict={}\n",
    "    bowCnt = len(bow)\n",
    "    for word, count in wordDict.items():\n",
    "        tfDict[word] = count/float(bowCnt)\n",
    "    return tfDict"
   ]
  },
  {
   "cell_type": "code",
   "execution_count": 12,
   "metadata": {},
   "outputs": [
    {
     "name": "stdout",
     "output_type": "stream",
     "text": [
      "tfBowA:\n",
      " {'driven': 0.14285714285714285, 'road': 0.14285714285714285, 'highway': 0.0, 'is': 0.14285714285714285, 'truck': 0.0, 'car': 0.14285714285714285, 'on': 0.14285714285714285, 'The': 0.14285714285714285, 'the': 0.14285714285714285}\n",
      "\n",
      "tfBowB:\n",
      " {'driven': 0.14285714285714285, 'road': 0.0, 'highway': 0.14285714285714285, 'is': 0.14285714285714285, 'truck': 0.14285714285714285, 'car': 0.0, 'on': 0.14285714285714285, 'The': 0.14285714285714285, 'the': 0.14285714285714285}\n"
     ]
    }
   ],
   "source": [
    "tfBowA = computeTF(wordDictA, bowA)\n",
    "tfBowB = computeTF(wordDictB, bowB)\n",
    "\n",
    "print('tfBowA:\\n', tfBowA)\n",
    "print('\\ntfBowB:\\n', tfBowB)"
   ]
  },
  {
   "cell_type": "code",
   "execution_count": 13,
   "metadata": {},
   "outputs": [
    {
     "data": {
      "text/html": [
       "<style  type=\"text/css\" >\n",
       "</style><table id=\"T_b76ae8f6_e022_11ea_90f4_f220cda55e3c\" ><thead>    <tr>        <th class=\"blank level0\" ></th>        <th class=\"col_heading level0 col0\" >tfBowA</th>        <th class=\"col_heading level0 col1\" >tfBowB</th>    </tr></thead><tbody>\n",
       "                <tr>\n",
       "                        <th id=\"T_b76ae8f6_e022_11ea_90f4_f220cda55e3clevel0_row0\" class=\"row_heading level0 row0\" >driven</th>\n",
       "                        <td id=\"T_b76ae8f6_e022_11ea_90f4_f220cda55e3crow0_col0\" class=\"data row0 col0\" >0.142857</td>\n",
       "                        <td id=\"T_b76ae8f6_e022_11ea_90f4_f220cda55e3crow0_col1\" class=\"data row0 col1\" >0.142857</td>\n",
       "            </tr>\n",
       "            <tr>\n",
       "                        <th id=\"T_b76ae8f6_e022_11ea_90f4_f220cda55e3clevel0_row1\" class=\"row_heading level0 row1\" >road</th>\n",
       "                        <td id=\"T_b76ae8f6_e022_11ea_90f4_f220cda55e3crow1_col0\" class=\"data row1 col0\" >0.142857</td>\n",
       "                        <td id=\"T_b76ae8f6_e022_11ea_90f4_f220cda55e3crow1_col1\" class=\"data row1 col1\" >0.000000</td>\n",
       "            </tr>\n",
       "            <tr>\n",
       "                        <th id=\"T_b76ae8f6_e022_11ea_90f4_f220cda55e3clevel0_row2\" class=\"row_heading level0 row2\" >highway</th>\n",
       "                        <td id=\"T_b76ae8f6_e022_11ea_90f4_f220cda55e3crow2_col0\" class=\"data row2 col0\" >0.000000</td>\n",
       "                        <td id=\"T_b76ae8f6_e022_11ea_90f4_f220cda55e3crow2_col1\" class=\"data row2 col1\" >0.142857</td>\n",
       "            </tr>\n",
       "            <tr>\n",
       "                        <th id=\"T_b76ae8f6_e022_11ea_90f4_f220cda55e3clevel0_row3\" class=\"row_heading level0 row3\" >is</th>\n",
       "                        <td id=\"T_b76ae8f6_e022_11ea_90f4_f220cda55e3crow3_col0\" class=\"data row3 col0\" >0.142857</td>\n",
       "                        <td id=\"T_b76ae8f6_e022_11ea_90f4_f220cda55e3crow3_col1\" class=\"data row3 col1\" >0.142857</td>\n",
       "            </tr>\n",
       "            <tr>\n",
       "                        <th id=\"T_b76ae8f6_e022_11ea_90f4_f220cda55e3clevel0_row4\" class=\"row_heading level0 row4\" >truck</th>\n",
       "                        <td id=\"T_b76ae8f6_e022_11ea_90f4_f220cda55e3crow4_col0\" class=\"data row4 col0\" >0.000000</td>\n",
       "                        <td id=\"T_b76ae8f6_e022_11ea_90f4_f220cda55e3crow4_col1\" class=\"data row4 col1\" >0.142857</td>\n",
       "            </tr>\n",
       "            <tr>\n",
       "                        <th id=\"T_b76ae8f6_e022_11ea_90f4_f220cda55e3clevel0_row5\" class=\"row_heading level0 row5\" >car</th>\n",
       "                        <td id=\"T_b76ae8f6_e022_11ea_90f4_f220cda55e3crow5_col0\" class=\"data row5 col0\" >0.142857</td>\n",
       "                        <td id=\"T_b76ae8f6_e022_11ea_90f4_f220cda55e3crow5_col1\" class=\"data row5 col1\" >0.000000</td>\n",
       "            </tr>\n",
       "            <tr>\n",
       "                        <th id=\"T_b76ae8f6_e022_11ea_90f4_f220cda55e3clevel0_row6\" class=\"row_heading level0 row6\" >on</th>\n",
       "                        <td id=\"T_b76ae8f6_e022_11ea_90f4_f220cda55e3crow6_col0\" class=\"data row6 col0\" >0.142857</td>\n",
       "                        <td id=\"T_b76ae8f6_e022_11ea_90f4_f220cda55e3crow6_col1\" class=\"data row6 col1\" >0.142857</td>\n",
       "            </tr>\n",
       "            <tr>\n",
       "                        <th id=\"T_b76ae8f6_e022_11ea_90f4_f220cda55e3clevel0_row7\" class=\"row_heading level0 row7\" >The</th>\n",
       "                        <td id=\"T_b76ae8f6_e022_11ea_90f4_f220cda55e3crow7_col0\" class=\"data row7 col0\" >0.142857</td>\n",
       "                        <td id=\"T_b76ae8f6_e022_11ea_90f4_f220cda55e3crow7_col1\" class=\"data row7 col1\" >0.142857</td>\n",
       "            </tr>\n",
       "            <tr>\n",
       "                        <th id=\"T_b76ae8f6_e022_11ea_90f4_f220cda55e3clevel0_row8\" class=\"row_heading level0 row8\" >the</th>\n",
       "                        <td id=\"T_b76ae8f6_e022_11ea_90f4_f220cda55e3crow8_col0\" class=\"data row8 col0\" >0.142857</td>\n",
       "                        <td id=\"T_b76ae8f6_e022_11ea_90f4_f220cda55e3crow8_col1\" class=\"data row8 col1\" >0.142857</td>\n",
       "            </tr>\n",
       "    </tbody></table>"
      ],
      "text/plain": [
       "<pandas.io.formats.style.Styler at 0x7f5ca912d438>"
      ]
     },
     "execution_count": 13,
     "metadata": {},
     "output_type": "execute_result"
    }
   ],
   "source": [
    "df_tf = pd.DataFrame([tfBowA, tfBowB]).T\n",
    "df_tf.columns=['tfBowA', 'tfBowB']\n",
    "df_tf.style"
   ]
  },
  {
   "cell_type": "markdown",
   "metadata": {},
   "source": [
    "### 2.2. IDF"
   ]
  },
  {
   "cell_type": "code",
   "execution_count": 14,
   "metadata": {},
   "outputs": [],
   "source": [
    "def computeIDF(docList):\n",
    "    import math\n",
    "    idfDict = {}\n",
    "    N = len(docList)\n",
    "    \n",
    "    idfDict = dict.fromkeys(docList[0].keys(), 0)\n",
    "    for doc in docList:\n",
    "        for word, val in doc.items():\n",
    "            if val > 0:\n",
    "                idfDict[word] += 1\n",
    "    \n",
    "    for word, val in idfDict.items():\n",
    "        idfDict[word] = math.log10(N / float(val))\n",
    "        \n",
    "    return idfDict"
   ]
  },
  {
   "cell_type": "code",
   "execution_count": 15,
   "metadata": {},
   "outputs": [
    {
     "name": "stdout",
     "output_type": "stream",
     "text": [
      "{'driven': 0.0, 'road': 0.3010299956639812, 'highway': 0.3010299956639812, 'is': 0.0, 'truck': 0.3010299956639812, 'car': 0.3010299956639812, 'on': 0.0, 'The': 0.0, 'the': 0.0}\n"
     ]
    }
   ],
   "source": [
    "idfs = computeIDF([wordDictA, wordDictB])\n",
    "print(idfs)"
   ]
  },
  {
   "cell_type": "code",
   "execution_count": 16,
   "metadata": {},
   "outputs": [
    {
     "data": {
      "text/html": [
       "<style  type=\"text/css\" >\n",
       "</style><table id=\"T_b76eff0e_e022_11ea_90f4_f220cda55e3c\" ><thead>    <tr>        <th class=\"blank level0\" ></th>        <th class=\"col_heading level0 col0\" >IDF</th>    </tr></thead><tbody>\n",
       "                <tr>\n",
       "                        <th id=\"T_b76eff0e_e022_11ea_90f4_f220cda55e3clevel0_row0\" class=\"row_heading level0 row0\" >driven</th>\n",
       "                        <td id=\"T_b76eff0e_e022_11ea_90f4_f220cda55e3crow0_col0\" class=\"data row0 col0\" >0.000000</td>\n",
       "            </tr>\n",
       "            <tr>\n",
       "                        <th id=\"T_b76eff0e_e022_11ea_90f4_f220cda55e3clevel0_row1\" class=\"row_heading level0 row1\" >road</th>\n",
       "                        <td id=\"T_b76eff0e_e022_11ea_90f4_f220cda55e3crow1_col0\" class=\"data row1 col0\" >0.301030</td>\n",
       "            </tr>\n",
       "            <tr>\n",
       "                        <th id=\"T_b76eff0e_e022_11ea_90f4_f220cda55e3clevel0_row2\" class=\"row_heading level0 row2\" >highway</th>\n",
       "                        <td id=\"T_b76eff0e_e022_11ea_90f4_f220cda55e3crow2_col0\" class=\"data row2 col0\" >0.301030</td>\n",
       "            </tr>\n",
       "            <tr>\n",
       "                        <th id=\"T_b76eff0e_e022_11ea_90f4_f220cda55e3clevel0_row3\" class=\"row_heading level0 row3\" >is</th>\n",
       "                        <td id=\"T_b76eff0e_e022_11ea_90f4_f220cda55e3crow3_col0\" class=\"data row3 col0\" >0.000000</td>\n",
       "            </tr>\n",
       "            <tr>\n",
       "                        <th id=\"T_b76eff0e_e022_11ea_90f4_f220cda55e3clevel0_row4\" class=\"row_heading level0 row4\" >truck</th>\n",
       "                        <td id=\"T_b76eff0e_e022_11ea_90f4_f220cda55e3crow4_col0\" class=\"data row4 col0\" >0.301030</td>\n",
       "            </tr>\n",
       "            <tr>\n",
       "                        <th id=\"T_b76eff0e_e022_11ea_90f4_f220cda55e3clevel0_row5\" class=\"row_heading level0 row5\" >car</th>\n",
       "                        <td id=\"T_b76eff0e_e022_11ea_90f4_f220cda55e3crow5_col0\" class=\"data row5 col0\" >0.301030</td>\n",
       "            </tr>\n",
       "            <tr>\n",
       "                        <th id=\"T_b76eff0e_e022_11ea_90f4_f220cda55e3clevel0_row6\" class=\"row_heading level0 row6\" >on</th>\n",
       "                        <td id=\"T_b76eff0e_e022_11ea_90f4_f220cda55e3crow6_col0\" class=\"data row6 col0\" >0.000000</td>\n",
       "            </tr>\n",
       "            <tr>\n",
       "                        <th id=\"T_b76eff0e_e022_11ea_90f4_f220cda55e3clevel0_row7\" class=\"row_heading level0 row7\" >The</th>\n",
       "                        <td id=\"T_b76eff0e_e022_11ea_90f4_f220cda55e3crow7_col0\" class=\"data row7 col0\" >0.000000</td>\n",
       "            </tr>\n",
       "            <tr>\n",
       "                        <th id=\"T_b76eff0e_e022_11ea_90f4_f220cda55e3clevel0_row8\" class=\"row_heading level0 row8\" >the</th>\n",
       "                        <td id=\"T_b76eff0e_e022_11ea_90f4_f220cda55e3crow8_col0\" class=\"data row8 col0\" >0.000000</td>\n",
       "            </tr>\n",
       "    </tbody></table>"
      ],
      "text/plain": [
       "<pandas.io.formats.style.Styler at 0x7f5ca912dbe0>"
      ]
     },
     "execution_count": 16,
     "metadata": {},
     "output_type": "execute_result"
    }
   ],
   "source": [
    "df_idf = pd.DataFrame([idfs]).T\n",
    "df_idf.columns=['IDF']\n",
    "df_idf.style"
   ]
  },
  {
   "cell_type": "markdown",
   "metadata": {},
   "source": [
    "### 2.3 Compute TF-IDF"
   ]
  },
  {
   "cell_type": "code",
   "execution_count": 17,
   "metadata": {},
   "outputs": [],
   "source": [
    "def computeTFIDF(tfBow, idfs):\n",
    "    tfidf = {}\n",
    "    for word, val in tfBow.items():\n",
    "        tfidf[word] = val*idfs[word]\n",
    "    return tfidf"
   ]
  },
  {
   "cell_type": "code",
   "execution_count": 18,
   "metadata": {},
   "outputs": [
    {
     "name": "stdout",
     "output_type": "stream",
     "text": [
      "tfidfBowA {'driven': 0.0, 'road': 0.043004285094854454, 'highway': 0.0, 'is': 0.0, 'truck': 0.0, 'car': 0.043004285094854454, 'on': 0.0, 'The': 0.0, 'the': 0.0}\n",
      "tfidfBowB {'driven': 0.0, 'road': 0.0, 'highway': 0.043004285094854454, 'is': 0.0, 'truck': 0.043004285094854454, 'car': 0.0, 'on': 0.0, 'The': 0.0, 'the': 0.0}\n"
     ]
    }
   ],
   "source": [
    "tfidfBowA = computeTFIDF(tfBowA, idfs)\n",
    "tfidfBowB = computeTFIDF(tfBowB, idfs)\n",
    "print('tfidfBowA', tfidfBowA)\n",
    "print('tfidfBowB', tfidfBowB)"
   ]
  },
  {
   "cell_type": "code",
   "execution_count": 19,
   "metadata": {},
   "outputs": [
    {
     "data": {
      "text/html": [
       "<style  type=\"text/css\" >\n",
       "</style><table id=\"T_b772a14a_e022_11ea_90f4_f220cda55e3c\" ><thead>    <tr>        <th class=\"blank level0\" ></th>        <th class=\"col_heading level0 col0\" >tfidfBowA</th>        <th class=\"col_heading level0 col1\" >tfidfBowB</th>    </tr></thead><tbody>\n",
       "                <tr>\n",
       "                        <th id=\"T_b772a14a_e022_11ea_90f4_f220cda55e3clevel0_row0\" class=\"row_heading level0 row0\" >driven</th>\n",
       "                        <td id=\"T_b772a14a_e022_11ea_90f4_f220cda55e3crow0_col0\" class=\"data row0 col0\" >0.000000</td>\n",
       "                        <td id=\"T_b772a14a_e022_11ea_90f4_f220cda55e3crow0_col1\" class=\"data row0 col1\" >0.000000</td>\n",
       "            </tr>\n",
       "            <tr>\n",
       "                        <th id=\"T_b772a14a_e022_11ea_90f4_f220cda55e3clevel0_row1\" class=\"row_heading level0 row1\" >road</th>\n",
       "                        <td id=\"T_b772a14a_e022_11ea_90f4_f220cda55e3crow1_col0\" class=\"data row1 col0\" >0.043004</td>\n",
       "                        <td id=\"T_b772a14a_e022_11ea_90f4_f220cda55e3crow1_col1\" class=\"data row1 col1\" >0.000000</td>\n",
       "            </tr>\n",
       "            <tr>\n",
       "                        <th id=\"T_b772a14a_e022_11ea_90f4_f220cda55e3clevel0_row2\" class=\"row_heading level0 row2\" >highway</th>\n",
       "                        <td id=\"T_b772a14a_e022_11ea_90f4_f220cda55e3crow2_col0\" class=\"data row2 col0\" >0.000000</td>\n",
       "                        <td id=\"T_b772a14a_e022_11ea_90f4_f220cda55e3crow2_col1\" class=\"data row2 col1\" >0.043004</td>\n",
       "            </tr>\n",
       "            <tr>\n",
       "                        <th id=\"T_b772a14a_e022_11ea_90f4_f220cda55e3clevel0_row3\" class=\"row_heading level0 row3\" >is</th>\n",
       "                        <td id=\"T_b772a14a_e022_11ea_90f4_f220cda55e3crow3_col0\" class=\"data row3 col0\" >0.000000</td>\n",
       "                        <td id=\"T_b772a14a_e022_11ea_90f4_f220cda55e3crow3_col1\" class=\"data row3 col1\" >0.000000</td>\n",
       "            </tr>\n",
       "            <tr>\n",
       "                        <th id=\"T_b772a14a_e022_11ea_90f4_f220cda55e3clevel0_row4\" class=\"row_heading level0 row4\" >truck</th>\n",
       "                        <td id=\"T_b772a14a_e022_11ea_90f4_f220cda55e3crow4_col0\" class=\"data row4 col0\" >0.000000</td>\n",
       "                        <td id=\"T_b772a14a_e022_11ea_90f4_f220cda55e3crow4_col1\" class=\"data row4 col1\" >0.043004</td>\n",
       "            </tr>\n",
       "            <tr>\n",
       "                        <th id=\"T_b772a14a_e022_11ea_90f4_f220cda55e3clevel0_row5\" class=\"row_heading level0 row5\" >car</th>\n",
       "                        <td id=\"T_b772a14a_e022_11ea_90f4_f220cda55e3crow5_col0\" class=\"data row5 col0\" >0.043004</td>\n",
       "                        <td id=\"T_b772a14a_e022_11ea_90f4_f220cda55e3crow5_col1\" class=\"data row5 col1\" >0.000000</td>\n",
       "            </tr>\n",
       "            <tr>\n",
       "                        <th id=\"T_b772a14a_e022_11ea_90f4_f220cda55e3clevel0_row6\" class=\"row_heading level0 row6\" >on</th>\n",
       "                        <td id=\"T_b772a14a_e022_11ea_90f4_f220cda55e3crow6_col0\" class=\"data row6 col0\" >0.000000</td>\n",
       "                        <td id=\"T_b772a14a_e022_11ea_90f4_f220cda55e3crow6_col1\" class=\"data row6 col1\" >0.000000</td>\n",
       "            </tr>\n",
       "            <tr>\n",
       "                        <th id=\"T_b772a14a_e022_11ea_90f4_f220cda55e3clevel0_row7\" class=\"row_heading level0 row7\" >The</th>\n",
       "                        <td id=\"T_b772a14a_e022_11ea_90f4_f220cda55e3crow7_col0\" class=\"data row7 col0\" >0.000000</td>\n",
       "                        <td id=\"T_b772a14a_e022_11ea_90f4_f220cda55e3crow7_col1\" class=\"data row7 col1\" >0.000000</td>\n",
       "            </tr>\n",
       "            <tr>\n",
       "                        <th id=\"T_b772a14a_e022_11ea_90f4_f220cda55e3clevel0_row8\" class=\"row_heading level0 row8\" >the</th>\n",
       "                        <td id=\"T_b772a14a_e022_11ea_90f4_f220cda55e3crow8_col0\" class=\"data row8 col0\" >0.000000</td>\n",
       "                        <td id=\"T_b772a14a_e022_11ea_90f4_f220cda55e3crow8_col1\" class=\"data row8 col1\" >0.000000</td>\n",
       "            </tr>\n",
       "    </tbody></table>"
      ],
      "text/plain": [
       "<pandas.io.formats.style.Styler at 0x7f5ca90b5128>"
      ]
     },
     "execution_count": 19,
     "metadata": {},
     "output_type": "execute_result"
    }
   ],
   "source": [
    "import pandas as pd\n",
    "df_tfidf = pd.DataFrame([tfidfBowA, tfidfBowB]).T\n",
    "df_tfidf.columns = ['tfidfBowA', 'tfidfBowB']\n",
    "df_tfidf.style"
   ]
  },
  {
   "cell_type": "markdown",
   "metadata": {},
   "source": [
    "### 2.4 Compute TF-IDF Using sklearn"
   ]
  },
  {
   "cell_type": "code",
   "execution_count": 20,
   "metadata": {},
   "outputs": [
    {
     "name": "stdout",
     "output_type": "stream",
     "text": [
      "  (0, 5)\t0.42471718586982765\n",
      "  (0, 4)\t0.30218977576862155\n",
      "  (0, 1)\t0.30218977576862155\n",
      "  (0, 3)\t0.30218977576862155\n",
      "  (0, 0)\t0.42471718586982765\n",
      "  (0, 6)\t0.6043795515372431\n",
      "  (1, 2)\t0.42471718586982765\n",
      "  (1, 7)\t0.42471718586982765\n",
      "  (1, 4)\t0.30218977576862155\n",
      "  (1, 1)\t0.30218977576862155\n",
      "  (1, 3)\t0.30218977576862155\n",
      "  (1, 6)\t0.6043795515372431\n"
     ]
    }
   ],
   "source": [
    "# given the following document\n",
    "docA = 'The car is driven on the road'\n",
    "docB = 'The truck is driven on the highway'\n",
    "corpus = [docA,docB]\n",
    "\n",
    "# compute tf-idf\n",
    "tfidf = TfidfVectorizer()\n",
    "output = tfidf.fit_transform([docA, docB])\n",
    "# output = tfidf.fit_transform(corpus)\n",
    "\n",
    "print(output)"
   ]
  },
  {
   "cell_type": "code",
   "execution_count": 21,
   "metadata": {},
   "outputs": [
    {
     "name": "stdout",
     "output_type": "stream",
     "text": [
      "road  :  0.42471718586982765\n",
      "on  :  0.30218977576862155\n",
      "driven  :  0.30218977576862155\n",
      "is  :  0.30218977576862155\n",
      "car  :  0.42471718586982765\n",
      "the  :  0.6043795515372431\n",
      "highway  :  0.0\n",
      "truck  :  0.0\n",
      "on  :  0.30218977576862155\n",
      "driven  :  0.30218977576862155\n",
      "is  :  0.30218977576862155\n",
      "the  :  0.6043795515372431\n"
     ]
    }
   ],
   "source": [
    "# results\n",
    "feature_names = tfidf.get_feature_names()\n",
    "for col in output.nonzero()[1]:\n",
    "    print(feature_names[col], ' : ', output[0,col])"
   ]
  },
  {
   "cell_type": "code",
   "execution_count": 22,
   "metadata": {},
   "outputs": [
    {
     "name": "stdout",
     "output_type": "stream",
     "text": [
      "use as index:  ['car', 'driven', 'highway', 'is', 'on', 'road', 'the', 'truck']\n",
      "use a column name:  ['The car is driven on the road', 'The truck is driven on the highway']\n"
     ]
    },
    {
     "data": {
      "text/html": [
       "<style  type=\"text/css\" >\n",
       "</style><table id=\"T_b7771374_e022_11ea_90f4_f220cda55e3c\" ><thead>    <tr>        <th class=\"blank level0\" ></th>        <th class=\"col_heading level0 col0\" >The car is driven on the road</th>        <th class=\"col_heading level0 col1\" >The truck is driven on the highway</th>    </tr></thead><tbody>\n",
       "                <tr>\n",
       "                        <th id=\"T_b7771374_e022_11ea_90f4_f220cda55e3clevel0_row0\" class=\"row_heading level0 row0\" >car</th>\n",
       "                        <td id=\"T_b7771374_e022_11ea_90f4_f220cda55e3crow0_col0\" class=\"data row0 col0\" >0.424717</td>\n",
       "                        <td id=\"T_b7771374_e022_11ea_90f4_f220cda55e3crow0_col1\" class=\"data row0 col1\" >0.000000</td>\n",
       "            </tr>\n",
       "            <tr>\n",
       "                        <th id=\"T_b7771374_e022_11ea_90f4_f220cda55e3clevel0_row1\" class=\"row_heading level0 row1\" >driven</th>\n",
       "                        <td id=\"T_b7771374_e022_11ea_90f4_f220cda55e3crow1_col0\" class=\"data row1 col0\" >0.302190</td>\n",
       "                        <td id=\"T_b7771374_e022_11ea_90f4_f220cda55e3crow1_col1\" class=\"data row1 col1\" >0.302190</td>\n",
       "            </tr>\n",
       "            <tr>\n",
       "                        <th id=\"T_b7771374_e022_11ea_90f4_f220cda55e3clevel0_row2\" class=\"row_heading level0 row2\" >highway</th>\n",
       "                        <td id=\"T_b7771374_e022_11ea_90f4_f220cda55e3crow2_col0\" class=\"data row2 col0\" >0.000000</td>\n",
       "                        <td id=\"T_b7771374_e022_11ea_90f4_f220cda55e3crow2_col1\" class=\"data row2 col1\" >0.424717</td>\n",
       "            </tr>\n",
       "            <tr>\n",
       "                        <th id=\"T_b7771374_e022_11ea_90f4_f220cda55e3clevel0_row3\" class=\"row_heading level0 row3\" >is</th>\n",
       "                        <td id=\"T_b7771374_e022_11ea_90f4_f220cda55e3crow3_col0\" class=\"data row3 col0\" >0.302190</td>\n",
       "                        <td id=\"T_b7771374_e022_11ea_90f4_f220cda55e3crow3_col1\" class=\"data row3 col1\" >0.302190</td>\n",
       "            </tr>\n",
       "            <tr>\n",
       "                        <th id=\"T_b7771374_e022_11ea_90f4_f220cda55e3clevel0_row4\" class=\"row_heading level0 row4\" >on</th>\n",
       "                        <td id=\"T_b7771374_e022_11ea_90f4_f220cda55e3crow4_col0\" class=\"data row4 col0\" >0.302190</td>\n",
       "                        <td id=\"T_b7771374_e022_11ea_90f4_f220cda55e3crow4_col1\" class=\"data row4 col1\" >0.302190</td>\n",
       "            </tr>\n",
       "            <tr>\n",
       "                        <th id=\"T_b7771374_e022_11ea_90f4_f220cda55e3clevel0_row5\" class=\"row_heading level0 row5\" >road</th>\n",
       "                        <td id=\"T_b7771374_e022_11ea_90f4_f220cda55e3crow5_col0\" class=\"data row5 col0\" >0.424717</td>\n",
       "                        <td id=\"T_b7771374_e022_11ea_90f4_f220cda55e3crow5_col1\" class=\"data row5 col1\" >0.000000</td>\n",
       "            </tr>\n",
       "            <tr>\n",
       "                        <th id=\"T_b7771374_e022_11ea_90f4_f220cda55e3clevel0_row6\" class=\"row_heading level0 row6\" >the</th>\n",
       "                        <td id=\"T_b7771374_e022_11ea_90f4_f220cda55e3crow6_col0\" class=\"data row6 col0\" >0.604380</td>\n",
       "                        <td id=\"T_b7771374_e022_11ea_90f4_f220cda55e3crow6_col1\" class=\"data row6 col1\" >0.604380</td>\n",
       "            </tr>\n",
       "            <tr>\n",
       "                        <th id=\"T_b7771374_e022_11ea_90f4_f220cda55e3clevel0_row7\" class=\"row_heading level0 row7\" >truck</th>\n",
       "                        <td id=\"T_b7771374_e022_11ea_90f4_f220cda55e3crow7_col0\" class=\"data row7 col0\" >0.000000</td>\n",
       "                        <td id=\"T_b7771374_e022_11ea_90f4_f220cda55e3crow7_col1\" class=\"data row7 col1\" >0.424717</td>\n",
       "            </tr>\n",
       "    </tbody></table>"
      ],
      "text/plain": [
       "<pandas.io.formats.style.Styler at 0x7f5ca90b5eb8>"
      ]
     },
     "execution_count": 22,
     "metadata": {},
     "output_type": "execute_result"
    }
   ],
   "source": [
    "# result into df\n",
    "feature_names = tfidf.get_feature_names()\n",
    "print('use as index: ', feature_names)\n",
    "corpus_index = [word for word in corpus]\n",
    "print('use a column name: ', corpus_index)\n",
    "\n",
    "df = pd.DataFrame(output.T.todense(), index=feature_names, columns=corpus_index)\n",
    "df.style"
   ]
  },
  {
   "cell_type": "markdown",
   "metadata": {},
   "source": [
    "### 2.5 Summary"
   ]
  },
  {
   "cell_type": "code",
   "execution_count": 23,
   "metadata": {},
   "outputs": [
    {
     "data": {
      "text/html": [
       "<style  type=\"text/css\" >\n",
       "</style><table id=\"T_b778a1c6_e022_11ea_90f4_f220cda55e3c\" ><thead>    <tr>        <th class=\"blank level0\" ></th>        <th class=\"col_heading level0 col0\" >The car is driven on the road</th>        <th class=\"col_heading level0 col1\" >The truck is driven on the highway</th>        <th class=\"col_heading level0 col2\" >tfBowA</th>        <th class=\"col_heading level0 col3\" >tfBowB</th>        <th class=\"col_heading level0 col4\" >IDF</th>        <th class=\"col_heading level0 col5\" >tfidfBowA</th>        <th class=\"col_heading level0 col6\" >tfidfBowB</th>    </tr></thead><tbody>\n",
       "                <tr>\n",
       "                        <th id=\"T_b778a1c6_e022_11ea_90f4_f220cda55e3clevel0_row0\" class=\"row_heading level0 row0\" >driven</th>\n",
       "                        <td id=\"T_b778a1c6_e022_11ea_90f4_f220cda55e3crow0_col0\" class=\"data row0 col0\" >1</td>\n",
       "                        <td id=\"T_b778a1c6_e022_11ea_90f4_f220cda55e3crow0_col1\" class=\"data row0 col1\" >1</td>\n",
       "                        <td id=\"T_b778a1c6_e022_11ea_90f4_f220cda55e3crow0_col2\" class=\"data row0 col2\" >0.142857</td>\n",
       "                        <td id=\"T_b778a1c6_e022_11ea_90f4_f220cda55e3crow0_col3\" class=\"data row0 col3\" >0.142857</td>\n",
       "                        <td id=\"T_b778a1c6_e022_11ea_90f4_f220cda55e3crow0_col4\" class=\"data row0 col4\" >0.000000</td>\n",
       "                        <td id=\"T_b778a1c6_e022_11ea_90f4_f220cda55e3crow0_col5\" class=\"data row0 col5\" >0.000000</td>\n",
       "                        <td id=\"T_b778a1c6_e022_11ea_90f4_f220cda55e3crow0_col6\" class=\"data row0 col6\" >0.000000</td>\n",
       "            </tr>\n",
       "            <tr>\n",
       "                        <th id=\"T_b778a1c6_e022_11ea_90f4_f220cda55e3clevel0_row1\" class=\"row_heading level0 row1\" >road</th>\n",
       "                        <td id=\"T_b778a1c6_e022_11ea_90f4_f220cda55e3crow1_col0\" class=\"data row1 col0\" >1</td>\n",
       "                        <td id=\"T_b778a1c6_e022_11ea_90f4_f220cda55e3crow1_col1\" class=\"data row1 col1\" >0</td>\n",
       "                        <td id=\"T_b778a1c6_e022_11ea_90f4_f220cda55e3crow1_col2\" class=\"data row1 col2\" >0.142857</td>\n",
       "                        <td id=\"T_b778a1c6_e022_11ea_90f4_f220cda55e3crow1_col3\" class=\"data row1 col3\" >0.000000</td>\n",
       "                        <td id=\"T_b778a1c6_e022_11ea_90f4_f220cda55e3crow1_col4\" class=\"data row1 col4\" >0.301030</td>\n",
       "                        <td id=\"T_b778a1c6_e022_11ea_90f4_f220cda55e3crow1_col5\" class=\"data row1 col5\" >0.043004</td>\n",
       "                        <td id=\"T_b778a1c6_e022_11ea_90f4_f220cda55e3crow1_col6\" class=\"data row1 col6\" >0.000000</td>\n",
       "            </tr>\n",
       "            <tr>\n",
       "                        <th id=\"T_b778a1c6_e022_11ea_90f4_f220cda55e3clevel0_row2\" class=\"row_heading level0 row2\" >highway</th>\n",
       "                        <td id=\"T_b778a1c6_e022_11ea_90f4_f220cda55e3crow2_col0\" class=\"data row2 col0\" >0</td>\n",
       "                        <td id=\"T_b778a1c6_e022_11ea_90f4_f220cda55e3crow2_col1\" class=\"data row2 col1\" >1</td>\n",
       "                        <td id=\"T_b778a1c6_e022_11ea_90f4_f220cda55e3crow2_col2\" class=\"data row2 col2\" >0.000000</td>\n",
       "                        <td id=\"T_b778a1c6_e022_11ea_90f4_f220cda55e3crow2_col3\" class=\"data row2 col3\" >0.142857</td>\n",
       "                        <td id=\"T_b778a1c6_e022_11ea_90f4_f220cda55e3crow2_col4\" class=\"data row2 col4\" >0.301030</td>\n",
       "                        <td id=\"T_b778a1c6_e022_11ea_90f4_f220cda55e3crow2_col5\" class=\"data row2 col5\" >0.000000</td>\n",
       "                        <td id=\"T_b778a1c6_e022_11ea_90f4_f220cda55e3crow2_col6\" class=\"data row2 col6\" >0.043004</td>\n",
       "            </tr>\n",
       "            <tr>\n",
       "                        <th id=\"T_b778a1c6_e022_11ea_90f4_f220cda55e3clevel0_row3\" class=\"row_heading level0 row3\" >is</th>\n",
       "                        <td id=\"T_b778a1c6_e022_11ea_90f4_f220cda55e3crow3_col0\" class=\"data row3 col0\" >1</td>\n",
       "                        <td id=\"T_b778a1c6_e022_11ea_90f4_f220cda55e3crow3_col1\" class=\"data row3 col1\" >1</td>\n",
       "                        <td id=\"T_b778a1c6_e022_11ea_90f4_f220cda55e3crow3_col2\" class=\"data row3 col2\" >0.142857</td>\n",
       "                        <td id=\"T_b778a1c6_e022_11ea_90f4_f220cda55e3crow3_col3\" class=\"data row3 col3\" >0.142857</td>\n",
       "                        <td id=\"T_b778a1c6_e022_11ea_90f4_f220cda55e3crow3_col4\" class=\"data row3 col4\" >0.000000</td>\n",
       "                        <td id=\"T_b778a1c6_e022_11ea_90f4_f220cda55e3crow3_col5\" class=\"data row3 col5\" >0.000000</td>\n",
       "                        <td id=\"T_b778a1c6_e022_11ea_90f4_f220cda55e3crow3_col6\" class=\"data row3 col6\" >0.000000</td>\n",
       "            </tr>\n",
       "            <tr>\n",
       "                        <th id=\"T_b778a1c6_e022_11ea_90f4_f220cda55e3clevel0_row4\" class=\"row_heading level0 row4\" >truck</th>\n",
       "                        <td id=\"T_b778a1c6_e022_11ea_90f4_f220cda55e3crow4_col0\" class=\"data row4 col0\" >0</td>\n",
       "                        <td id=\"T_b778a1c6_e022_11ea_90f4_f220cda55e3crow4_col1\" class=\"data row4 col1\" >1</td>\n",
       "                        <td id=\"T_b778a1c6_e022_11ea_90f4_f220cda55e3crow4_col2\" class=\"data row4 col2\" >0.000000</td>\n",
       "                        <td id=\"T_b778a1c6_e022_11ea_90f4_f220cda55e3crow4_col3\" class=\"data row4 col3\" >0.142857</td>\n",
       "                        <td id=\"T_b778a1c6_e022_11ea_90f4_f220cda55e3crow4_col4\" class=\"data row4 col4\" >0.301030</td>\n",
       "                        <td id=\"T_b778a1c6_e022_11ea_90f4_f220cda55e3crow4_col5\" class=\"data row4 col5\" >0.000000</td>\n",
       "                        <td id=\"T_b778a1c6_e022_11ea_90f4_f220cda55e3crow4_col6\" class=\"data row4 col6\" >0.043004</td>\n",
       "            </tr>\n",
       "            <tr>\n",
       "                        <th id=\"T_b778a1c6_e022_11ea_90f4_f220cda55e3clevel0_row5\" class=\"row_heading level0 row5\" >car</th>\n",
       "                        <td id=\"T_b778a1c6_e022_11ea_90f4_f220cda55e3crow5_col0\" class=\"data row5 col0\" >1</td>\n",
       "                        <td id=\"T_b778a1c6_e022_11ea_90f4_f220cda55e3crow5_col1\" class=\"data row5 col1\" >0</td>\n",
       "                        <td id=\"T_b778a1c6_e022_11ea_90f4_f220cda55e3crow5_col2\" class=\"data row5 col2\" >0.142857</td>\n",
       "                        <td id=\"T_b778a1c6_e022_11ea_90f4_f220cda55e3crow5_col3\" class=\"data row5 col3\" >0.000000</td>\n",
       "                        <td id=\"T_b778a1c6_e022_11ea_90f4_f220cda55e3crow5_col4\" class=\"data row5 col4\" >0.301030</td>\n",
       "                        <td id=\"T_b778a1c6_e022_11ea_90f4_f220cda55e3crow5_col5\" class=\"data row5 col5\" >0.043004</td>\n",
       "                        <td id=\"T_b778a1c6_e022_11ea_90f4_f220cda55e3crow5_col6\" class=\"data row5 col6\" >0.000000</td>\n",
       "            </tr>\n",
       "            <tr>\n",
       "                        <th id=\"T_b778a1c6_e022_11ea_90f4_f220cda55e3clevel0_row6\" class=\"row_heading level0 row6\" >on</th>\n",
       "                        <td id=\"T_b778a1c6_e022_11ea_90f4_f220cda55e3crow6_col0\" class=\"data row6 col0\" >1</td>\n",
       "                        <td id=\"T_b778a1c6_e022_11ea_90f4_f220cda55e3crow6_col1\" class=\"data row6 col1\" >1</td>\n",
       "                        <td id=\"T_b778a1c6_e022_11ea_90f4_f220cda55e3crow6_col2\" class=\"data row6 col2\" >0.142857</td>\n",
       "                        <td id=\"T_b778a1c6_e022_11ea_90f4_f220cda55e3crow6_col3\" class=\"data row6 col3\" >0.142857</td>\n",
       "                        <td id=\"T_b778a1c6_e022_11ea_90f4_f220cda55e3crow6_col4\" class=\"data row6 col4\" >0.000000</td>\n",
       "                        <td id=\"T_b778a1c6_e022_11ea_90f4_f220cda55e3crow6_col5\" class=\"data row6 col5\" >0.000000</td>\n",
       "                        <td id=\"T_b778a1c6_e022_11ea_90f4_f220cda55e3crow6_col6\" class=\"data row6 col6\" >0.000000</td>\n",
       "            </tr>\n",
       "            <tr>\n",
       "                        <th id=\"T_b778a1c6_e022_11ea_90f4_f220cda55e3clevel0_row7\" class=\"row_heading level0 row7\" >The</th>\n",
       "                        <td id=\"T_b778a1c6_e022_11ea_90f4_f220cda55e3crow7_col0\" class=\"data row7 col0\" >1</td>\n",
       "                        <td id=\"T_b778a1c6_e022_11ea_90f4_f220cda55e3crow7_col1\" class=\"data row7 col1\" >1</td>\n",
       "                        <td id=\"T_b778a1c6_e022_11ea_90f4_f220cda55e3crow7_col2\" class=\"data row7 col2\" >0.142857</td>\n",
       "                        <td id=\"T_b778a1c6_e022_11ea_90f4_f220cda55e3crow7_col3\" class=\"data row7 col3\" >0.142857</td>\n",
       "                        <td id=\"T_b778a1c6_e022_11ea_90f4_f220cda55e3crow7_col4\" class=\"data row7 col4\" >0.000000</td>\n",
       "                        <td id=\"T_b778a1c6_e022_11ea_90f4_f220cda55e3crow7_col5\" class=\"data row7 col5\" >0.000000</td>\n",
       "                        <td id=\"T_b778a1c6_e022_11ea_90f4_f220cda55e3crow7_col6\" class=\"data row7 col6\" >0.000000</td>\n",
       "            </tr>\n",
       "            <tr>\n",
       "                        <th id=\"T_b778a1c6_e022_11ea_90f4_f220cda55e3clevel0_row8\" class=\"row_heading level0 row8\" >the</th>\n",
       "                        <td id=\"T_b778a1c6_e022_11ea_90f4_f220cda55e3crow8_col0\" class=\"data row8 col0\" >1</td>\n",
       "                        <td id=\"T_b778a1c6_e022_11ea_90f4_f220cda55e3crow8_col1\" class=\"data row8 col1\" >1</td>\n",
       "                        <td id=\"T_b778a1c6_e022_11ea_90f4_f220cda55e3crow8_col2\" class=\"data row8 col2\" >0.142857</td>\n",
       "                        <td id=\"T_b778a1c6_e022_11ea_90f4_f220cda55e3crow8_col3\" class=\"data row8 col3\" >0.142857</td>\n",
       "                        <td id=\"T_b778a1c6_e022_11ea_90f4_f220cda55e3crow8_col4\" class=\"data row8 col4\" >0.000000</td>\n",
       "                        <td id=\"T_b778a1c6_e022_11ea_90f4_f220cda55e3crow8_col5\" class=\"data row8 col5\" >0.000000</td>\n",
       "                        <td id=\"T_b778a1c6_e022_11ea_90f4_f220cda55e3crow8_col6\" class=\"data row8 col6\" >0.000000</td>\n",
       "            </tr>\n",
       "    </tbody></table>"
      ],
      "text/plain": [
       "<pandas.io.formats.style.Styler at 0x7f5ca90b5438>"
      ]
     },
     "execution_count": 23,
     "metadata": {},
     "output_type": "execute_result"
    }
   ],
   "source": [
    "summary = pd.concat([df_wordcnt,df_tf, df_idf, df_tfidf], axis=1)\n",
    "summary.style"
   ]
  },
  {
   "cell_type": "code",
   "execution_count": null,
   "metadata": {},
   "outputs": [],
   "source": []
  }
 ],
 "metadata": {
  "kernelspec": {
   "display_name": "Environment (conda_dasom)",
   "language": "python",
   "name": "conda_dasom"
  },
  "language_info": {
   "codemirror_mode": {
    "name": "ipython",
    "version": 3
   },
   "file_extension": ".py",
   "mimetype": "text/x-python",
   "name": "python",
   "nbconvert_exporter": "python",
   "pygments_lexer": "ipython3",
   "version": "3.6.10"
  }
 },
 "nbformat": 4,
 "nbformat_minor": 2
}
